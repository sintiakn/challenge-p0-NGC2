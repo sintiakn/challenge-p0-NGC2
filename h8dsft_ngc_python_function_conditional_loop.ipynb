{
  "nbformat": 4,
  "nbformat_minor": 0,
  "metadata": {
    "colab": {
      "provenance": [],
      "toc_visible": true
    },
    "kernelspec": {
      "name": "python3",
      "display_name": "Python 3"
    },
    "language_info": {
      "name": "python"
    }
  },
  "cells": [
    {
      "cell_type": "markdown",
      "source": [
        "Nama: Sinthiya Kusuma Nagari\n",
        "\n",
        "Batch: HCK 010"
      ],
      "metadata": {
        "id": "ly_3Q40GlWnx"
      }
    },
    {
      "cell_type": "markdown",
      "source": [
        "# Task 1"
      ],
      "metadata": {
        "id": "wIlPats6ldLc"
      }
    },
    {
      "cell_type": "code",
      "execution_count": null,
      "metadata": {
        "colab": {
          "base_uri": "https://localhost:8080/"
        },
        "id": "_SY7BmdtumzZ",
        "outputId": "2fde7988-d87a-45e9-9a5d-06927f33b690"
      },
      "outputs": [
        {
          "output_type": "stream",
          "name": "stdout",
          "text": [
            "Masukan kalimat: halo saya mau makan\n",
            "4\n"
          ]
        }
      ],
      "source": [
        "kalimat=input(\"Masukan kalimat: \")\n",
        "def number_of_word(sentence):\n",
        "    b=sentence.split(' ')\n",
        "    panjang=len(b)\n",
        "    return panjang\n",
        "d=number_of_word(kalimat)\n",
        "print(d)\n"
      ]
    },
    {
      "cell_type": "markdown",
      "source": [
        "# Task 2"
      ],
      "metadata": {
        "id": "HJb6pSvClfxu"
      }
    },
    {
      "cell_type": "code",
      "source": [
        "first=int(input(\"masukan nilai pertama: \"))\n",
        "last=int(input(\"masukan nilai akhir: \"))\n",
        "kelipatan=int(input(\"masukan kelipatan: \"))\n",
        "def find_multiples(start_range,end_range,multiple):\n",
        "  lista=[]\n",
        "  for i in range(start_range,end_range+1):\n",
        "    if i%multiple == 0:\n",
        "      lista.append(i)\n",
        "  return (lista)\n",
        "\n",
        "\n",
        "print(find_multiples(first,last,kelipatan))\n"
      ],
      "metadata": {
        "colab": {
          "base_uri": "https://localhost:8080/"
        },
        "id": "5GgXPmDVvk-F",
        "outputId": "684a613f-aca5-4f59-ff45-292af8266507"
      },
      "execution_count": 4,
      "outputs": [
        {
          "output_type": "stream",
          "name": "stdout",
          "text": [
            "masukan nilai pertama: 10\n",
            "masukan nilai akhir: 50\n",
            "masukan kelipatan: 5\n",
            "[10, 15, 20, 25, 30, 35, 40, 45, 50]\n"
          ]
        }
      ]
    },
    {
      "cell_type": "markdown",
      "source": [
        "# Task 3"
      ],
      "metadata": {
        "id": "Fa4YsCmjljIj"
      }
    },
    {
      "cell_type": "code",
      "source": [
        "def grade_converter(convert_to,**npaired):\n",
        "  result={}\n",
        "  for student,score in npaired.items():\n",
        "    if convert_to=='letter_grade':\n",
        "        if score >= 85:\n",
        "          result[student] = 'A'\n",
        "        elif score >= 70 and score <= 84.99:\n",
        "          result[student] = 'B'\n",
        "        elif score >= 60 and score <= 69.99:\n",
        "          result[student] = 'C'\n",
        "        elif score >= 50 and score <= 59.99:\n",
        "          result[student] = 'D'\n",
        "        elif score >= 40 and score <= 49.99:\n",
        "          result[student] = 'E'\n",
        "        elif score >= 0 and score <= 39.99:\n",
        "          result[student] = 'F'\n",
        "    elif convert_to=='gpa':\n",
        "        if score >= 85:\n",
        "          result[student] = '4'\n",
        "        elif score >= 70 and score <= 84.99:\n",
        "          result[student] = '3'\n",
        "        elif score >= 60 and score <= 69.99:\n",
        "          result[student] = '2.5'\n",
        "        elif score >= 50 and score <= 59.99:\n",
        "          result[student] = '2'\n",
        "        elif score >= 40 and score <= 49.99:\n",
        "          result[student] = '1.5'\n",
        "        elif score >= 0 and score <= 39.99:\n",
        "          result[student] = '1'\n",
        "  return result\n",
        "\n",
        "\n",
        "print(grade_converter(convert_to='gpa', Faiz=90, Adam=100))\n"
      ],
      "metadata": {
        "id": "102QoVE9zCLI",
        "colab": {
          "base_uri": "https://localhost:8080/"
        },
        "outputId": "04d36022-48f0-43bb-c3de-da447d5ee2d9"
      },
      "execution_count": 46,
      "outputs": [
        {
          "output_type": "stream",
          "name": "stdout",
          "text": [
            "{'Faiz': '4', 'Adam': '4'}\n"
          ]
        }
      ]
    },
    {
      "cell_type": "markdown",
      "source": [
        "# Task 4"
      ],
      "metadata": {
        "id": "DDdC9LonllBG"
      }
    },
    {
      "cell_type": "code",
      "source": [
        "def fibonacci(n):\n",
        "  if n<0:\n",
        "    return \"incorrect number\"\n",
        "  elif n == 0:\n",
        "    return 0\n",
        "  elif n == 1:\n",
        "    return 1\n",
        "  else:\n",
        "    return fibonacci(n-1) + fibonacci(n-2)\n",
        "\n",
        "fibonacci(5)"
      ],
      "metadata": {
        "id": "1DeVKVw-9lrF",
        "outputId": "1c92cd56-727f-4f18-c3d8-e169ed730b3f",
        "colab": {
          "base_uri": "https://localhost:8080/"
        }
      },
      "execution_count": 51,
      "outputs": [
        {
          "output_type": "execute_result",
          "data": {
            "text/plain": [
              "5"
            ]
          },
          "metadata": {},
          "execution_count": 51
        }
      ]
    }
  ]
}